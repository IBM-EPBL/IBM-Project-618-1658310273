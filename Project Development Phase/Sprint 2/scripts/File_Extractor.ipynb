{
 "cells": [
  {
   "cell_type": "code",
   "execution_count": 2,
   "id": "7d4fd9aa",
   "metadata": {},
   "outputs": [],
   "source": [
    "def index_to_information (index_of_pred_class : int,files_name_list: list) -> list:\n",
    "    '''\n",
    "    This function takes the value of predicted class index from CNN model file\n",
    "    And returns information about that file in files_name_list (csv)'s as Dictionary '''\n",
    "    \n",
    "    #initialize empty dictonary\n",
    "    info_dict = {}\n",
    "    \n",
    "    # index to food name\n",
    "    food_name_of_pred_class = csv_extractor (files_name_list[0], str(index_of_pred_class), row_number=1)[\"COMMON TERM\"]\n",
    "    print(food_name_of_pred_class)\n",
    "    \n",
    "    # food name to extract information in list of other files\n",
    "    for file_name in files_name_list[1:]:\n",
    "        info_dict.update(csv_extractor (file_name, food_name_of_pred_class))\n",
    "    return info_dict"
   ]
  },
  {
   "cell_type": "code",
   "execution_count": 3,
   "id": "92dbba08",
   "metadata": {},
   "outputs": [],
   "source": [
    "import csv\n",
    "\n",
    "def csv_extractor (csv_file_name : str, food_name : int, row_number :int = 0):\n",
    "    '''\n",
    "    This function takes in a csv file name, a food name, and a row number.\n",
    "    The row number is optional and defaults to 0.\n",
    "    The function returns a dictionary with the food name as the key and the\n",
    "    corresponding row as the value.\n",
    "    '''\n",
    "\n",
    "    with open(csv_file_name, 'r') as file:\n",
    "        reader = csv.reader(file)\n",
    "        head = next(reader)\n",
    "        for row in reader:\n",
    "            if row[row_number].lower() == food_name.lower():\n",
    "                return dict(zip(head,row))\n",
    "        else:\n",
    "            return {}"
   ]
  },
  {
   "cell_type": "code",
   "execution_count": 5,
   "id": "51467c93",
   "metadata": {},
   "outputs": [
    {
     "name": "stdout",
     "output_type": "stream",
     "text": [
      "Cauliflower\n",
      "{'NAME': 'Cauliflower', 'SERVING': '93g', 'CALORIES': '20', 'FIBER': '2g', 'FAT': '2g', 'PROTEIN': '2g', 'WATER': '93%', 'SUGAR ': '2g', 'CARBOHYDRATES': '5g', 'FOOD TYPE': 'vegetable', 'Name': 'Cauliflower', 'Wholesale Price': '43', 'Retail price': '[49, 55]', 'Shopping mall price': '[52, 71]', 'Quantity': '1kg', 'Type': 'vegetable'}\n"
     ]
    }
   ],
   "source": [
    "print(index_to_information(20,[\"../csv/index_list.csv\",\"../csv/nutrients_list.csv\",\"../csv/price_list.csv\"] ))"
   ]
  },
  {
   "cell_type": "code",
   "execution_count": null,
   "id": "4b336f81",
   "metadata": {},
   "outputs": [],
   "source": []
  }
 ],
 "metadata": {
  "kernelspec": {
   "display_name": "Python 3 (ipykernel)",
   "language": "python",
   "name": "python3"
  },
  "language_info": {
   "codemirror_mode": {
    "name": "ipython",
    "version": 3
   },
   "file_extension": ".py",
   "mimetype": "text/x-python",
   "name": "python",
   "nbconvert_exporter": "python",
   "pygments_lexer": "ipython3",
   "version": "3.9.7"
  }
 },
 "nbformat": 4,
 "nbformat_minor": 5
}
