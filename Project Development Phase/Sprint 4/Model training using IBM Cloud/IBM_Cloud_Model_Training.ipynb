{
 "cells": [
  {
   "cell_type": "markdown",
   "metadata": {
    "id": "mDtU_kqqZx1k"
   },
   "source": [
    "# **Fruits Classification using CNN in IBM Cloud**\n",
    "\n",
    "## **Number of classes** - 42\n",
    "## **Number of distinct fruits classes** - 11\n",
    "## **Number of distinct vegetables classes** - 12\n",
    "\n"
   ]
  },
  {
   "cell_type": "markdown",
   "metadata": {
    "id": "5V9QoEBmZoj6"
   },
   "source": [
    "## **Setting up things in IBM Cloud**"
   ]
  },
  {
   "cell_type": "code",
   "execution_count": 3,
   "metadata": {},
   "outputs": [
    {
     "name": "stdout",
     "output_type": "stream",
     "text": [
      "Requirement already satisfied: keras in /opt/conda/envs/Python-3.9/lib/python3.9/site-packages (2.7.0)\n",
      "Requirement already satisfied: tensorflow in /opt/conda/envs/Python-3.9/lib/python3.9/site-packages (2.7.2)\n",
      "Requirement already satisfied: h5py>=2.9.0 in /opt/conda/envs/Python-3.9/lib/python3.9/site-packages (from tensorflow) (3.2.1)\n",
      "Requirement already satisfied: tensorflow-estimator<2.8,~=2.7.0 in /opt/conda/envs/Python-3.9/lib/python3.9/site-packages (from tensorflow) (2.7.0)\n",
      "Requirement already satisfied: astunparse>=1.6.0 in /opt/conda/envs/Python-3.9/lib/python3.9/site-packages (from tensorflow) (1.6.3)\n",
      "Requirement already satisfied: six>=1.12.0 in /opt/conda/envs/Python-3.9/lib/python3.9/site-packages (from tensorflow) (1.15.0)\n",
      "Requirement already satisfied: tensorflow-io-gcs-filesystem>=0.21.0 in /opt/conda/envs/Python-3.9/lib/python3.9/site-packages (from tensorflow) (0.23.1)\n",
      "Requirement already satisfied: wrapt>=1.11.0 in /opt/conda/envs/Python-3.9/lib/python3.9/site-packages (from tensorflow) (1.12.1)\n",
      "Requirement already satisfied: typing-extensions>=3.6.6 in /opt/conda/envs/Python-3.9/lib/python3.9/site-packages (from tensorflow) (4.1.1)\n",
      "Requirement already satisfied: flatbuffers<3.0,>=1.12 in /opt/conda/envs/Python-3.9/lib/python3.9/site-packages (from tensorflow) (2.0)\n",
      "Requirement already satisfied: protobuf>=3.9.2 in /opt/conda/envs/Python-3.9/lib/python3.9/site-packages (from tensorflow) (3.19.1)\n",
      "Requirement already satisfied: opt-einsum>=2.3.2 in /opt/conda/envs/Python-3.9/lib/python3.9/site-packages (from tensorflow) (3.3.0)\n",
      "Requirement already satisfied: keras-preprocessing>=1.1.1 in /opt/conda/envs/Python-3.9/lib/python3.9/site-packages (from tensorflow) (1.1.2)\n",
      "Requirement already satisfied: grpcio<2.0,>=1.24.3 in /opt/conda/envs/Python-3.9/lib/python3.9/site-packages (from tensorflow) (1.42.0)\n",
      "Requirement already satisfied: gast<0.5.0,>=0.2.1 in /opt/conda/envs/Python-3.9/lib/python3.9/site-packages (from tensorflow) (0.4.0)\n",
      "Requirement already satisfied: termcolor>=1.1.0 in /opt/conda/envs/Python-3.9/lib/python3.9/site-packages (from tensorflow) (1.1.0)\n",
      "Requirement already satisfied: wheel<1.0,>=0.32.0 in /opt/conda/envs/Python-3.9/lib/python3.9/site-packages (from tensorflow) (0.37.0)\n",
      "Requirement already satisfied: google-pasta>=0.1.1 in /opt/conda/envs/Python-3.9/lib/python3.9/site-packages (from tensorflow) (0.2.0)\n",
      "Requirement already satisfied: keras<2.8,>=2.7.0 in /opt/conda/envs/Python-3.9/lib/python3.9/site-packages (from tensorflow) (2.7.0)\n",
      "Requirement already satisfied: numpy>=1.14.5 in /opt/conda/envs/Python-3.9/lib/python3.9/site-packages (from tensorflow) (1.20.3)\n",
      "Requirement already satisfied: tensorboard~=2.7 in /opt/conda/envs/Python-3.9/lib/python3.9/site-packages (from tensorflow) (2.7.0)\n",
      "Requirement already satisfied: absl-py>=0.4.0 in /opt/conda/envs/Python-3.9/lib/python3.9/site-packages (from tensorflow) (0.12.0)\n",
      "Requirement already satisfied: requests<3,>=2.21.0 in /opt/conda/envs/Python-3.9/lib/python3.9/site-packages (from tensorboard~=2.7->tensorflow) (2.26.0)\n",
      "Requirement already satisfied: werkzeug>=0.11.15 in /opt/conda/envs/Python-3.9/lib/python3.9/site-packages (from tensorboard~=2.7->tensorflow) (2.0.2)\n",
      "Requirement already satisfied: tensorboard-data-server<0.7.0,>=0.6.0 in /opt/conda/envs/Python-3.9/lib/python3.9/site-packages (from tensorboard~=2.7->tensorflow) (0.6.1)\n",
      "Requirement already satisfied: google-auth-oauthlib<0.5,>=0.4.1 in /opt/conda/envs/Python-3.9/lib/python3.9/site-packages (from tensorboard~=2.7->tensorflow) (0.4.4)\n",
      "Requirement already satisfied: google-auth<3,>=1.6.3 in /opt/conda/envs/Python-3.9/lib/python3.9/site-packages (from tensorboard~=2.7->tensorflow) (1.23.0)\n",
      "Requirement already satisfied: setuptools>=41.0.0 in /opt/conda/envs/Python-3.9/lib/python3.9/site-packages (from tensorboard~=2.7->tensorflow) (58.0.4)\n",
      "Requirement already satisfied: markdown>=2.6.8 in /opt/conda/envs/Python-3.9/lib/python3.9/site-packages (from tensorboard~=2.7->tensorflow) (3.3.3)\n",
      "Requirement already satisfied: tensorboard-plugin-wit>=1.6.0 in /opt/conda/envs/Python-3.9/lib/python3.9/site-packages (from tensorboard~=2.7->tensorflow) (1.6.0)\n",
      "Requirement already satisfied: rsa<5,>=3.1.4 in /opt/conda/envs/Python-3.9/lib/python3.9/site-packages (from google-auth<3,>=1.6.3->tensorboard~=2.7->tensorflow) (4.7.2)\n",
      "Requirement already satisfied: cachetools<5.0,>=2.0.0 in /opt/conda/envs/Python-3.9/lib/python3.9/site-packages (from google-auth<3,>=1.6.3->tensorboard~=2.7->tensorflow) (4.2.2)\n",
      "Requirement already satisfied: pyasn1-modules>=0.2.1 in /opt/conda/envs/Python-3.9/lib/python3.9/site-packages (from google-auth<3,>=1.6.3->tensorboard~=2.7->tensorflow) (0.2.8)\n",
      "Requirement already satisfied: requests-oauthlib>=0.7.0 in /opt/conda/envs/Python-3.9/lib/python3.9/site-packages (from google-auth-oauthlib<0.5,>=0.4.1->tensorboard~=2.7->tensorflow) (1.3.0)\n",
      "Requirement already satisfied: pyasn1<0.5.0,>=0.4.6 in /opt/conda/envs/Python-3.9/lib/python3.9/site-packages (from pyasn1-modules>=0.2.1->google-auth<3,>=1.6.3->tensorboard~=2.7->tensorflow) (0.4.8)\n",
      "Requirement already satisfied: idna<4,>=2.5 in /opt/conda/envs/Python-3.9/lib/python3.9/site-packages (from requests<3,>=2.21.0->tensorboard~=2.7->tensorflow) (3.3)\n",
      "Requirement already satisfied: charset-normalizer~=2.0.0 in /opt/conda/envs/Python-3.9/lib/python3.9/site-packages (from requests<3,>=2.21.0->tensorboard~=2.7->tensorflow) (2.0.4)\n",
      "Requirement already satisfied: certifi>=2017.4.17 in /opt/conda/envs/Python-3.9/lib/python3.9/site-packages (from requests<3,>=2.21.0->tensorboard~=2.7->tensorflow) (2022.9.24)\n",
      "Requirement already satisfied: urllib3<1.27,>=1.21.1 in /opt/conda/envs/Python-3.9/lib/python3.9/site-packages (from requests<3,>=2.21.0->tensorboard~=2.7->tensorflow) (1.26.7)\n",
      "Requirement already satisfied: oauthlib>=3.0.0 in /opt/conda/envs/Python-3.9/lib/python3.9/site-packages (from requests-oauthlib>=0.7.0->google-auth-oauthlib<0.5,>=0.4.1->tensorboard~=2.7->tensorflow) (3.2.1)\n"
     ]
    }
   ],
   "source": [
    "!pip install keras\n",
    "!pip install tensorflow"
   ]
  },
  {
   "cell_type": "code",
   "execution_count": null,
   "metadata": {},
   "outputs": [],
   "source": [
    "import os, types\n",
    "import pandas as pd\n",
    "from botocore.client import Config\n",
    "import ibm_boto3\n",
    "\n",
    "def __iter__(self): return 0\n",
    "\n",
    "# @hidden_cell\n",
    "# The following code accesses a file in your IBM Cloud Object Storage. It includes your credentials.\n",
    "# You might want to remove those credentials before you share the notebook.\n",
    "cos_client = ibm_boto3.client(service_name='s3',\n",
    "    ibm_api_key_id=\"eeJ1bmJC6Fg-69GLhQ-BVukvrdm7iQ7eJBqOJ12g_U8D\",\n",
    "    ibm_auth_endpoint=\"https://iam.cloud.ibm.com/oidc/token\",\n",
    "    config=Config(signature_version='oauth'),\n",
    "    endpoint_url='https://s3.private.us.cloud-object-storage.appdomain.cloud')\n",
    "\n",
    "bucket = 'main-donotdelete-pr-zrukxx0pomjjg2'\n",
    "object_key = 'dataset.zip'\n",
    "\n",
    "streaming_body_2 = cos_client.get_object(Bucket=bucket, Key=object_key)['Body']\n",
    "\n",
    "# Your data file was loaded into a botocore.response.StreamingBody object.\n",
    "# Please read the documentation of ibm_boto3 and pandas to learn more about the possibilities to load the data.\n",
    "# ibm_boto3 documentation: https://ibm.github.io/ibm-cos-sdk-python/\n",
    "# pandas documentation: http://pandas.pydata.org/\n"
   ]
  },
  {
   "cell_type": "code",
   "execution_count": 1,
   "metadata": {},
   "outputs": [
    {
     "data": {
      "text/plain": [
       "'/home/wsuser/work'"
      ]
     },
     "execution_count": 1,
     "metadata": {},
     "output_type": "execute_result"
    }
   ],
   "source": [
    "pwd"
   ]
  },
  {
   "cell_type": "code",
   "execution_count": 6,
   "metadata": {},
   "outputs": [],
   "source": [
    "\n",
    "import os, types\n",
    "import pandas as pd\n",
    "from botocore.client import Config\n",
    "import ibm_boto3\n",
    "\n",
    "def __iter__(self): return 0\n",
    "\n",
    "# @hidden_cell\n",
    "# The following code accesses a file in your IBM Cloud Object Storage. It includes your credentials.\n",
    "# You might want to remove those credentials before you share the notebook.\n",
    "cos_client = ibm_boto3.client(service_name='s3',\n",
    "    ibm_api_key_id='1BMbTMmQ189qWmjIquCeQTiUNxMGb8WIH67SNl4c2W5b',\n",
    "    ibm_auth_endpoint=\"https://iam.cloud.ibm.com/oidc/token\",\n",
    "    config=Config(signature_version='oauth'),\n",
    "    endpoint_url='https://s3.private.us.cloud-object-storage.appdomain.cloud')\n",
    "\n",
    "bucket = 'main-donotdelete-pr-zrukxx0pomjjg2'\n",
    "object_key = 'dataset.zip'\n",
    "\n",
    "streaming_body_3 = cos_client.get_object(Bucket=bucket, Key=object_key)['Body']\n",
    "\n",
    "# Your data file was loaded into a botocore.response.StreamingBody object.\n",
    "# Please read the documentation of ibm_boto3 and pandas to learn more about the possibilities to load the data.\n",
    "# ibm_boto3 documentation: https://ibm.github.io/ibm-cos-sdk-python/\n",
    "# pandas documentation: http://pandas.pydata.org/\n"
   ]
  },
  {
   "cell_type": "code",
   "execution_count": 7,
   "metadata": {},
   "outputs": [],
   "source": [
    "from io import BytesIO\n",
    "import zipfile\n",
    "unzip = zipfile.ZipFile(BytesIO(streaming_body_3.read()), 'r')\n",
    "file_paths = unzip.namelist()\n",
    "for path in file_paths:\n",
    "    unzip.extract(path)"
   ]
  },
  {
   "cell_type": "code",
   "execution_count": 12,
   "metadata": {},
   "outputs": [],
   "source": [
    "import os\n",
    "filenames = os.listdir('/home/wsuser/work/dataset/')"
   ]
  },
  {
   "cell_type": "markdown",
   "metadata": {
    "id": "3xqCcJBbZezL"
   },
   "source": [
    "## **Image Augementation**"
   ]
  },
  {
   "cell_type": "code",
   "execution_count": 13,
   "metadata": {
    "colab": {
     "base_uri": "https://localhost:8080/"
    },
    "id": "4XU6UlwyhliS",
    "outputId": "71ace9ba-6488-4578-8572-2c866d80095d"
   },
   "outputs": [
    {
     "name": "stdout",
     "output_type": "stream",
     "text": [
      "Found 21091 images belonging to 42 classes.\n",
      "Found 7059 images belonging to 42 classes.\n"
     ]
    }
   ],
   "source": [
    "import keras\n",
    "from keras.preprocessing.image import ImageDataGenerator\n",
    "from keras.models import Sequential\n",
    "from keras.layers import Dense, Dropout, Activation, Flatten\n",
    "from keras.layers import Conv2D, MaxPooling2D\n",
    "\n",
    "num_classes = 42\n",
    "img_rows, img_cols = 32, 32\n",
    "batch_size = 16\n",
    "\n",
    "train_data_dir = r'/home/wsuser/work/dataset/Training'\n",
    "validation_data_dir = r'/home/wsuser/work/dataset/Test'\n",
    "\n",
    "# Let's use some data augmentaiton \n",
    "train_datagen = ImageDataGenerator(\n",
    "      rescale=1./255,\n",
    "      rotation_range=30,\n",
    "      width_shift_range=0.3,\n",
    "      height_shift_range=0.3,\n",
    "      horizontal_flip=True,\n",
    "      fill_mode='nearest')\n",
    " \n",
    "validation_datagen = ImageDataGenerator(rescale=1./255)\n",
    " \n",
    "train_generator = train_datagen.flow_from_directory(\n",
    "        train_data_dir,\n",
    "        target_size=(img_rows, img_cols),\n",
    "        batch_size =batch_size,\n",
    "        class_mode='categorical',\n",
    "        shuffle=True)\n",
    " \n",
    "validation_generator = validation_datagen.flow_from_directory(\n",
    "        validation_data_dir,\n",
    "        target_size=(img_rows, img_cols),\n",
    "        batch_size=batch_size,\n",
    "        class_mode='categorical',\n",
    "        shuffle=False)"
   ]
  },
  {
   "cell_type": "markdown",
   "metadata": {
    "id": "agOV8dGTZM2l"
   },
   "source": [
    "## **Creating CNN model**"
   ]
  },
  {
   "cell_type": "code",
   "execution_count": 14,
   "metadata": {
    "colab": {
     "base_uri": "https://localhost:8080/"
    },
    "id": "YkpR7j7uSgM8",
    "outputId": "0e854864-f4ac-449f-a858-6b2dfaa582fc"
   },
   "outputs": [
    {
     "name": "stdout",
     "output_type": "stream",
     "text": [
      "Model: \"sequential\"\n",
      "_________________________________________________________________\n",
      " Layer (type)                Output Shape              Param #   \n",
      "=================================================================\n",
      " conv2d (Conv2D)             (None, 32, 32, 32)        896       \n",
      "                                                                 \n",
      " activation (Activation)     (None, 32, 32, 32)        0         \n",
      "                                                                 \n",
      " conv2d_1 (Conv2D)           (None, 30, 30, 32)        9248      \n",
      "                                                                 \n",
      " activation_1 (Activation)   (None, 30, 30, 32)        0         \n",
      "                                                                 \n",
      " max_pooling2d (MaxPooling2D  (None, 15, 15, 32)       0         \n",
      " )                                                               \n",
      "                                                                 \n",
      " dropout (Dropout)           (None, 15, 15, 32)        0         \n",
      "                                                                 \n",
      " conv2d_2 (Conv2D)           (None, 15, 15, 64)        18496     \n",
      "                                                                 \n",
      " activation_2 (Activation)   (None, 15, 15, 64)        0         \n",
      "                                                                 \n",
      " conv2d_3 (Conv2D)           (None, 13, 13, 64)        36928     \n",
      "                                                                 \n",
      " activation_3 (Activation)   (None, 13, 13, 64)        0         \n",
      "                                                                 \n",
      " max_pooling2d_1 (MaxPooling  (None, 6, 6, 64)         0         \n",
      " 2D)                                                             \n",
      "                                                                 \n",
      " dropout_1 (Dropout)         (None, 6, 6, 64)          0         \n",
      "                                                                 \n",
      " flatten (Flatten)           (None, 2304)              0         \n",
      "                                                                 \n",
      " dense (Dense)               (None, 512)               1180160   \n",
      "                                                                 \n",
      " activation_4 (Activation)   (None, 512)               0         \n",
      "                                                                 \n",
      " dropout_2 (Dropout)         (None, 512)               0         \n",
      "                                                                 \n",
      " dense_1 (Dense)             (None, 42)                21546     \n",
      "                                                                 \n",
      " activation_5 (Activation)   (None, 42)                0         \n",
      "                                                                 \n",
      "=================================================================\n",
      "Total params: 1,267,274\n",
      "Trainable params: 1,267,274\n",
      "Non-trainable params: 0\n",
      "_________________________________________________________________\n",
      "None\n"
     ]
    }
   ],
   "source": [
    "model = Sequential()\n",
    "\n",
    "# Padding = 'same'  results in padding the input such that\n",
    "# the output has the same length as the original input\n",
    "model.add(Conv2D(32, (3, 3), padding='same',\n",
    "                 input_shape= (img_rows, img_cols, 3)))\n",
    "model.add(Activation('relu'))\n",
    "model.add(Conv2D(32, (3, 3)))\n",
    "model.add(Activation('relu'))\n",
    "model.add(MaxPooling2D(pool_size=(2, 2)))\n",
    "model.add(Dropout(0.25))\n",
    "\n",
    "model.add(Conv2D(64, (3, 3), padding='same'))\n",
    "model.add(Activation('relu'))\n",
    "model.add(Conv2D(64, (3, 3)))\n",
    "model.add(Activation('relu'))\n",
    "model.add(MaxPooling2D(pool_size=(2, 2)))\n",
    "model.add(Dropout(0.25))\n",
    "\n",
    "model.add(Flatten())\n",
    "model.add(Dense(512))\n",
    "model.add(Activation('relu'))\n",
    "model.add(Dropout(0.5))\n",
    "model.add(Dense(num_classes))\n",
    "model.add(Activation('softmax'))\n",
    "\n",
    "# initiate RMSprop optimizer and configure some parameters\n",
    "#opt = keras.optimizers.rmsprop(lr=0.0001, decay=1e-6)\n",
    "print(model.summary())"
   ]
  },
  {
   "cell_type": "markdown",
   "metadata": {
    "id": "odaKCDUDZDSd"
   },
   "source": [
    "## **Model Training**"
   ]
  },
  {
   "cell_type": "code",
   "execution_count": 16,
   "metadata": {
    "colab": {
     "base_uri": "https://localhost:8080/"
    },
    "id": "h_tNMf4xS3rF",
    "outputId": "a9bba6f9-b7da-475a-8696-abc41c648a1c"
   },
   "outputs": [
    {
     "name": "stderr",
     "output_type": "stream",
     "text": [
      "/opt/conda/envs/Python-3.9/lib/python3.9/site-packages/keras/optimizer_v2/rmsprop.py:130: UserWarning: The `lr` argument is deprecated, use `learning_rate` instead.\n",
      "  super(RMSprop, self).__init__(name, **kwargs)\n",
      "/tmp/wsuser/ipykernel_164/1615154690.py:35: UserWarning: `Model.fit_generator` is deprecated and will be removed in a future version. Please use `Model.fit`, which supports generators.\n",
      "  history = model.fit_generator(\n"
     ]
    },
    {
     "name": "stdout",
     "output_type": "stream",
     "text": [
      "Epoch 1/10\n",
      "1318/1318 [==============================] - ETA: 0s - loss: 1.5080 - accuracy: 0.5159\n",
      "Epoch 00001: val_loss improved from inf to 0.98967, saving model to /home/wsuser/work/nutrition.h5\n",
      "1318/1318 [==============================] - 169s 127ms/step - loss: 1.5080 - accuracy: 0.5159 - val_loss: 0.9897 - val_accuracy: 0.7419 - lr: 0.0010\n",
      "Epoch 2/10\n",
      "1318/1318 [==============================] - ETA: 0s - loss: 0.4640 - accuracy: 0.8464\n",
      "Epoch 00002: val_loss improved from 0.98967 to 0.96504, saving model to /home/wsuser/work/nutrition.h5\n",
      "1318/1318 [==============================] - 165s 125ms/step - loss: 0.4640 - accuracy: 0.8464 - val_loss: 0.9650 - val_accuracy: 0.8196 - lr: 0.0010\n",
      "Epoch 3/10\n",
      "1318/1318 [==============================] - ETA: 0s - loss: 0.3117 - accuracy: 0.9080\n",
      "Epoch 00003: val_loss improved from 0.96504 to 0.66326, saving model to /home/wsuser/work/nutrition.h5\n",
      "1318/1318 [==============================] - 165s 126ms/step - loss: 0.3117 - accuracy: 0.9080 - val_loss: 0.6633 - val_accuracy: 0.8961 - lr: 0.0010\n",
      "Epoch 4/10\n",
      "1318/1318 [==============================] - ETA: 0s - loss: 0.2531 - accuracy: 0.9306\n",
      "Epoch 00004: val_loss improved from 0.66326 to 0.31750, saving model to /home/wsuser/work/nutrition.h5\n",
      "1318/1318 [==============================] - 164s 124ms/step - loss: 0.2531 - accuracy: 0.9306 - val_loss: 0.3175 - val_accuracy: 0.9410 - lr: 0.0010\n",
      "Epoch 5/10\n",
      "1318/1318 [==============================] - ETA: 0s - loss: 0.2303 - accuracy: 0.9419\n",
      "Epoch 00005: val_loss did not improve from 0.31750\n",
      "1318/1318 [==============================] - 168s 128ms/step - loss: 0.2303 - accuracy: 0.9419 - val_loss: 0.4946 - val_accuracy: 0.9446 - lr: 0.0010\n",
      "Epoch 6/10\n",
      "1318/1318 [==============================] - ETA: 0s - loss: 0.2330 - accuracy: 0.9433\n",
      "Epoch 00006: val_loss improved from 0.31750 to 0.22965, saving model to /home/wsuser/work/nutrition.h5\n",
      "1318/1318 [==============================] - 166s 126ms/step - loss: 0.2330 - accuracy: 0.9433 - val_loss: 0.2296 - val_accuracy: 0.9734 - lr: 0.0010\n",
      "Epoch 7/10\n",
      "1318/1318 [==============================] - ETA: 0s - loss: 0.2246 - accuracy: 0.9500\n",
      "Epoch 00007: val_loss did not improve from 0.22965\n",
      "1318/1318 [==============================] - 165s 125ms/step - loss: 0.2246 - accuracy: 0.9500 - val_loss: 0.7222 - val_accuracy: 0.9321 - lr: 0.0010\n",
      "Epoch 8/10\n",
      "1318/1318 [==============================] - ETA: 0s - loss: 0.2397 - accuracy: 0.9494\n",
      "Epoch 00008: val_loss did not improve from 0.22965\n",
      "1318/1318 [==============================] - 166s 126ms/step - loss: 0.2397 - accuracy: 0.9494 - val_loss: 0.2419 - val_accuracy: 0.9707 - lr: 0.0010\n",
      "Epoch 9/10\n",
      "1318/1318 [==============================] - ETA: 0s - loss: 0.2566 - accuracy: 0.9516Restoring model weights from the end of the best epoch: 6.\n",
      "\n",
      "Epoch 00009: val_loss did not improve from 0.22965\n",
      "\n",
      "Epoch 00009: ReduceLROnPlateau reducing learning rate to 0.00020000000949949026.\n",
      "1318/1318 [==============================] - 164s 125ms/step - loss: 0.2566 - accuracy: 0.9516 - val_loss: 0.3970 - val_accuracy: 0.9566 - lr: 0.0010\n",
      "Epoch 00009: early stopping\n"
     ]
    }
   ],
   "source": [
    "from tensorflow.keras.optimizers import RMSprop\n",
    "from keras.callbacks import ModelCheckpoint, EarlyStopping, ReduceLROnPlateau\n",
    "\n",
    "                     \n",
    "checkpoint = ModelCheckpoint(r\"/home/wsuser/work/nutrition.h5\",\n",
    "                             monitor=\"val_loss\",\n",
    "                             mode=\"min\",\n",
    "                             save_best_only = True,\n",
    "                             verbose=1)\n",
    "\n",
    "earlystop = EarlyStopping(monitor = 'val_loss', \n",
    "                          min_delta = 0, \n",
    "                          patience = 3,\n",
    "                          verbose = 1,\n",
    "                          restore_best_weights = True)\n",
    "\n",
    "reduce_lr = ReduceLROnPlateau(monitor = 'val_loss',\n",
    "                              factor = 0.2,\n",
    "                              patience = 3,\n",
    "                              verbose = 1,\n",
    "                              min_delta = 0.0001)\n",
    "\n",
    "# we put our call backs into a callback list\n",
    "callbacks = [earlystop, checkpoint, reduce_lr]\n",
    "\n",
    "# We use a very small learning rate \n",
    "model.compile(loss = 'categorical_crossentropy',\n",
    "              optimizer = RMSprop(lr = 0.001),\n",
    "              metrics = ['accuracy'])\n",
    "\n",
    "nb_train_samples = 21091\n",
    "nb_validation_samples = 7059\n",
    "epochs = 10\n",
    "\n",
    "history = model.fit_generator(\n",
    "    train_generator,\n",
    "    steps_per_epoch = nb_train_samples // batch_size,\n",
    "    epochs = epochs,\n",
    "    callbacks = callbacks,\n",
    "    validation_data = validation_generator,\n",
    "    validation_steps = nb_validation_samples // batch_size)"
   ]
  },
  {
   "cell_type": "code",
   "execution_count": 17,
   "metadata": {},
   "outputs": [
    {
     "name": "stdout",
     "output_type": "stream",
     "text": [
      "nutrition.h5\r\n"
     ]
    }
   ],
   "source": [
    "!tar -zcvf nutrition.tgz nutrition.h5"
   ]
  },
  {
   "cell_type": "code",
   "execution_count": 50,
   "metadata": {},
   "outputs": [
    {
     "name": "stdout",
     "output_type": "stream",
     "text": [
      "body_cloud.tar.gz\r\n",
      "\u001b[0m\u001b[01;34mdataset\u001b[0m/\r\n",
      "nutrition.h5\r\n",
      "nutrition.tgz\r\n"
     ]
    }
   ],
   "source": [
    "ls -1"
   ]
  },
  {
   "cell_type": "code",
   "execution_count": 19,
   "metadata": {},
   "outputs": [
    {
     "name": "stdout",
     "output_type": "stream",
     "text": [
      "Requirement already satisfied: watson-machine-learning-client in /opt/conda/envs/Python-3.9/lib/python3.9/site-packages (1.0.391)\n",
      "Requirement already satisfied: tqdm in /opt/conda/envs/Python-3.9/lib/python3.9/site-packages (from watson-machine-learning-client) (4.62.3)\n",
      "Requirement already satisfied: requests in /opt/conda/envs/Python-3.9/lib/python3.9/site-packages (from watson-machine-learning-client) (2.26.0)\n",
      "Requirement already satisfied: ibm-cos-sdk in /opt/conda/envs/Python-3.9/lib/python3.9/site-packages (from watson-machine-learning-client) (2.11.0)\n",
      "Requirement already satisfied: lomond in /opt/conda/envs/Python-3.9/lib/python3.9/site-packages (from watson-machine-learning-client) (0.3.3)\n",
      "Requirement already satisfied: tabulate in /opt/conda/envs/Python-3.9/lib/python3.9/site-packages (from watson-machine-learning-client) (0.8.9)\n",
      "Requirement already satisfied: certifi in /opt/conda/envs/Python-3.9/lib/python3.9/site-packages (from watson-machine-learning-client) (2022.9.24)\n",
      "Requirement already satisfied: pandas in /opt/conda/envs/Python-3.9/lib/python3.9/site-packages (from watson-machine-learning-client) (1.3.4)\n",
      "Requirement already satisfied: urllib3 in /opt/conda/envs/Python-3.9/lib/python3.9/site-packages (from watson-machine-learning-client) (1.26.7)\n",
      "Requirement already satisfied: boto3 in /opt/conda/envs/Python-3.9/lib/python3.9/site-packages (from watson-machine-learning-client) (1.18.21)\n",
      "Requirement already satisfied: jmespath<1.0.0,>=0.7.1 in /opt/conda/envs/Python-3.9/lib/python3.9/site-packages (from boto3->watson-machine-learning-client) (0.10.0)\n",
      "Requirement already satisfied: s3transfer<0.6.0,>=0.5.0 in /opt/conda/envs/Python-3.9/lib/python3.9/site-packages (from boto3->watson-machine-learning-client) (0.5.0)\n",
      "Requirement already satisfied: botocore<1.22.0,>=1.21.21 in /opt/conda/envs/Python-3.9/lib/python3.9/site-packages (from boto3->watson-machine-learning-client) (1.21.41)\n",
      "Requirement already satisfied: python-dateutil<3.0.0,>=2.1 in /opt/conda/envs/Python-3.9/lib/python3.9/site-packages (from botocore<1.22.0,>=1.21.21->boto3->watson-machine-learning-client) (2.8.2)\n",
      "Requirement already satisfied: six>=1.5 in /opt/conda/envs/Python-3.9/lib/python3.9/site-packages (from python-dateutil<3.0.0,>=2.1->botocore<1.22.0,>=1.21.21->boto3->watson-machine-learning-client) (1.15.0)\n",
      "Requirement already satisfied: ibm-cos-sdk-s3transfer==2.11.0 in /opt/conda/envs/Python-3.9/lib/python3.9/site-packages (from ibm-cos-sdk->watson-machine-learning-client) (2.11.0)\n",
      "Requirement already satisfied: ibm-cos-sdk-core==2.11.0 in /opt/conda/envs/Python-3.9/lib/python3.9/site-packages (from ibm-cos-sdk->watson-machine-learning-client) (2.11.0)\n",
      "Requirement already satisfied: charset-normalizer~=2.0.0 in /opt/conda/envs/Python-3.9/lib/python3.9/site-packages (from requests->watson-machine-learning-client) (2.0.4)\n",
      "Requirement already satisfied: idna<4,>=2.5 in /opt/conda/envs/Python-3.9/lib/python3.9/site-packages (from requests->watson-machine-learning-client) (3.3)\n",
      "Requirement already satisfied: pytz>=2017.3 in /opt/conda/envs/Python-3.9/lib/python3.9/site-packages (from pandas->watson-machine-learning-client) (2021.3)\n",
      "Requirement already satisfied: numpy>=1.17.3 in /opt/conda/envs/Python-3.9/lib/python3.9/site-packages (from pandas->watson-machine-learning-client) (1.20.3)\n"
     ]
    }
   ],
   "source": [
    "!pip install watson-machine-learning-client --upgrade"
   ]
  },
  {
   "cell_type": "code",
   "execution_count": 20,
   "metadata": {},
   "outputs": [],
   "source": [
    "from ibm_watson_machine_learning import APIClient\n",
    "wml_credentials = {\"url\":\"https://us-south.ml.cloud.ibm.com\", \"apikey\":\"eeJ1bmJC6Fg-69GLhQ-BVukvrdm7iQ7eJBqOJ12g_U8D\"}"
   ]
  },
  {
   "cell_type": "code",
   "execution_count": 21,
   "metadata": {},
   "outputs": [],
   "source": [
    "client = APIClient(wml_credentials)"
   ]
  },
  {
   "cell_type": "code",
   "execution_count": 22,
   "metadata": {},
   "outputs": [],
   "source": [
    "def guid_from_space_name(client,space_name):\n",
    "    space = client.spaces.get_details()\n",
    "    return(next(item for item in space['resources'] if item['entity'][\"name\"]==space_name)['metadata']['id'])"
   ]
  },
  {
   "cell_type": "code",
   "execution_count": 23,
   "metadata": {},
   "outputs": [
    {
     "name": "stdout",
     "output_type": "stream",
     "text": [
      "d7509c4b-aa09-4b61-9e79-78dca9c5d810\n"
     ]
    }
   ],
   "source": [
    "space_uid = guid_from_space_name(client,'fruitsclassification' )\n",
    "print(space_uid)"
   ]
  },
  {
   "cell_type": "code",
   "execution_count": 24,
   "metadata": {},
   "outputs": [
    {
     "data": {
      "text/plain": [
       "'SUCCESS'"
      ]
     },
     "execution_count": 24,
     "metadata": {},
     "output_type": "execute_result"
    }
   ],
   "source": [
    "client.set.default_space(space_uid)"
   ]
  },
  {
   "cell_type": "code",
   "execution_count": 25,
   "metadata": {},
   "outputs": [],
   "source": [
    "software_spec_uid = client.software_specifications.get_uid_by_name(\"tensorflow_rt22.1-py3.9\")"
   ]
  },
  {
   "cell_type": "code",
   "execution_count": 26,
   "metadata": {},
   "outputs": [
    {
     "name": "stdout",
     "output_type": "stream",
     "text": [
      "acd9c798-6974-5d2f-a657-ce06e986df4d\n"
     ]
    }
   ],
   "source": [
    "print(software_spec_uid)"
   ]
  },
  {
   "cell_type": "code",
   "execution_count": 27,
   "metadata": {},
   "outputs": [
    {
     "name": "stdout",
     "output_type": "stream",
     "text": [
      "-----------------------------  ------------------------------------  ----\n",
      "NAME                           ASSET_ID                              TYPE\n",
      "default_py3.6                  0062b8c9-8b7d-44a0-a9b9-46c416adcbd9  base\n",
      "kernel-spark3.2-scala2.12      020d69ce-7ac1-5e68-ac1a-31189867356a  base\n",
      "pytorch-onnx_1.3-py3.7-edt     069ea134-3346-5748-b513-49120e15d288  base\n",
      "scikit-learn_0.20-py3.6        09c5a1d0-9c1e-4473-a344-eb7b665ff687  base\n",
      "spark-mllib_3.0-scala_2.12     09f4cff0-90a7-5899-b9ed-1ef348aebdee  base\n",
      "pytorch-onnx_rt22.1-py3.9      0b848dd4-e681-5599-be41-b5f6fccc6471  base\n",
      "ai-function_0.1-py3.6          0cdb0f1e-5376-4f4d-92dd-da3b69aa9bda  base\n",
      "shiny-r3.6                     0e6e79df-875e-4f24-8ae9-62dcc2148306  base\n",
      "tensorflow_2.4-py3.7-horovod   1092590a-307d-563d-9b62-4eb7d64b3f22  base\n",
      "pytorch_1.1-py3.6              10ac12d6-6b30-4ccd-8392-3e922c096a92  base\n",
      "tensorflow_1.15-py3.6-ddl      111e41b3-de2d-5422-a4d6-bf776828c4b7  base\n",
      "autoai-kb_rt22.2-py3.10        125b6d9a-5b1f-5e8d-972a-b251688ccf40  base\n",
      "runtime-22.1-py3.9             12b83a17-24d8-5082-900f-0ab31fbfd3cb  base\n",
      "scikit-learn_0.22-py3.6        154010fa-5b3b-4ac1-82af-4d5ee5abbc85  base\n",
      "default_r3.6                   1b70aec3-ab34-4b87-8aa0-a4a3c8296a36  base\n",
      "pytorch-onnx_1.3-py3.6         1bc6029a-cc97-56da-b8e0-39c3880dbbe7  base\n",
      "kernel-spark3.3-r3.6           1c9e5454-f216-59dd-a20e-474a5cdf5988  base\n",
      "pytorch-onnx_rt22.1-py3.9-edt  1d362186-7ad5-5b59-8b6c-9d0880bde37f  base\n",
      "tensorflow_2.1-py3.6           1eb25b84-d6ed-5dde-b6a5-3fbdf1665666  base\n",
      "spark-mllib_3.2                20047f72-0a98-58c7-9ff5-a77b012eb8f5  base\n",
      "tensorflow_2.4-py3.8-horovod   217c16f6-178f-56bf-824a-b19f20564c49  base\n",
      "runtime-22.1-py3.9-cuda        26215f05-08c3-5a41-a1b0-da66306ce658  base\n",
      "do_py3.8                       295addb5-9ef9-547e-9bf4-92ae3563e720  base\n",
      "autoai-ts_3.8-py3.8            2aa0c932-798f-5ae9-abd6-15e0c2402fb5  base\n",
      "tensorflow_1.15-py3.6          2b73a275-7cbf-420b-a912-eae7f436e0bc  base\n",
      "kernel-spark3.3-py3.9          2b7961e2-e3b1-5a8c-a491-482c8368839a  base\n",
      "pytorch_1.2-py3.6              2c8ef57d-2687-4b7d-acce-01f94976dac1  base\n",
      "spark-mllib_2.3                2e51f700-bca0-4b0d-88dc-5c6791338875  base\n",
      "pytorch-onnx_1.1-py3.6-edt     32983cea-3f32-4400-8965-dde874a8d67e  base\n",
      "spark-mllib_3.0-py37           36507ebe-8770-55ba-ab2a-eafe787600e9  base\n",
      "spark-mllib_2.4                390d21f8-e58b-4fac-9c55-d7ceda621326  base\n",
      "autoai-ts_rt22.2-py3.10        396b2e83-0953-5b86-9a55-7ce1628a406f  base\n",
      "xgboost_0.82-py3.6             39e31acd-5f30-41dc-ae44-60233c80306e  base\n",
      "pytorch-onnx_1.2-py3.6-edt     40589d0e-7019-4e28-8daa-fb03b6f4fe12  base\n",
      "pytorch-onnx_rt22.2-py3.10     40e73f55-783a-5535-b3fa-0c8b94291431  base\n",
      "default_r36py38                41c247d3-45f8-5a71-b065-8580229facf0  base\n",
      "autoai-ts_rt22.1-py3.9         4269d26e-07ba-5d40-8f66-2d495b0c71f7  base\n",
      "autoai-obm_3.0                 42b92e18-d9ab-567f-988a-4240ba1ed5f7  base\n",
      "pmml-3.0_4.3                   493bcb95-16f1-5bc5-bee8-81b8af80e9c7  base\n",
      "spark-mllib_2.4-r_3.6          49403dff-92e9-4c87-a3d7-a42d0021c095  base\n",
      "xgboost_0.90-py3.6             4ff8d6c2-1343-4c18-85e1-689c965304d3  base\n",
      "pytorch-onnx_1.1-py3.6         50f95b2a-bc16-43bb-bc94-b0bed208c60b  base\n",
      "autoai-ts_3.9-py3.8            52c57136-80fa-572e-8728-a5e7cbb42cde  base\n",
      "spark-mllib_2.4-scala_2.11     55a70f99-7320-4be5-9fb9-9edb5a443af5  base\n",
      "spark-mllib_3.0                5c1b0ca2-4977-5c2e-9439-ffd44ea8ffe9  base\n",
      "autoai-obm_2.0                 5c2e37fa-80b8-5e77-840f-d912469614ee  base\n",
      "spss-modeler_18.1              5c3cad7e-507f-4b2a-a9a3-ab53a21dee8b  base\n",
      "cuda-py3.8                     5d3232bf-c86b-5df4-a2cd-7bb870a1cd4e  base\n",
      "autoai-kb_3.1-py3.7            632d4b22-10aa-5180-88f0-f52dfb6444d7  base\n",
      "pytorch-onnx_1.7-py3.8         634d3cdc-b562-5bf9-a2d4-ea90a478456b  base\n",
      "-----------------------------  ------------------------------------  ----\n",
      "Note: Only first 50 records were displayed. To display more use 'limit' parameter.\n"
     ]
    }
   ],
   "source": [
    "client.software_specifications.list()"
   ]
  },
  {
   "cell_type": "code",
   "execution_count": 29,
   "metadata": {},
   "outputs": [
    {
     "name": "stdout",
     "output_type": "stream",
     "text": [
      "acd9c798-6974-5d2f-a657-ce06e986df4d\n"
     ]
    }
   ],
   "source": [
    "software_spec_uid = client.software_specifications.get_uid_by_name(\"tensorflow_rt22.1-py3.9\")\n",
    "print(software_spec_uid)"
   ]
  },
  {
   "cell_type": "code",
   "execution_count": 39,
   "metadata": {},
   "outputs": [],
   "source": [
    "model_details = client.repository.store_model(model = 'nutrition.tgz' , meta_props = {\n",
    "    client.repository.ModelMetaNames.NAME : \"CNN\", \n",
    "    client.repository.ModelMetaNames.TYPE : \"tensorflow_rt22.1\",\n",
    "    client.repository.ModelMetaNames.SOFTWARE_SPEC_UID: software_spec_uid\n",
    "})\n",
    "model_id = client.repository.get_model_id(model_details)"
   ]
  },
  {
   "cell_type": "code",
   "execution_count": 40,
   "metadata": {},
   "outputs": [],
   "source": [
    "streaming_body_4 = cos_client.get_object(Bucket=bucket, Key=object_key)['Body']\n",
    "\n",
    "# Your data file was loaded into a botocore.response.StreamingBody object.\n",
    "# Please read the documentation of ibm_boto3 and pandas to learn more about the possibilities to load the data.\n",
    "# ibm_boto3 documentation: https://ibm.github.io/ibm-cos-sdk-python/\n",
    "# pandas documentation: http://pandas.pydata.org/\n"
   ]
  },
  {
   "cell_type": "code",
   "execution_count": 51,
   "metadata": {},
   "outputs": [],
   "source": [
    "\n",
    "import os, types\n",
    "import pandas as pd\n",
    "from botocore.client import Config\n",
    "import ibm_boto3\n",
    "\n",
    "def __iter__(self): return 0\n",
    "\n",
    "# @hidden_cell\n",
    "# The following code accesses a file in your IBM Cloud Object Storage. It includes your credentials.\n",
    "# You might want to remove those credentials before you share the notebook.\n",
    "cos_client = ibm_boto3.client(service_name='s3',\n",
    "    ibm_api_key_id='1BMbTMmQ189qWmjIquCeQTiUNxMGb8WIH67SNl4c2W5b',\n",
    "    ibm_auth_endpoint=\"https://iam.cloud.ibm.com/oidc/token\",\n",
    "    config=Config(signature_version='oauth'),\n",
    "    endpoint_url='https://s3.private.us.cloud-object-storage.appdomain.cloud')\n",
    "\n",
    "bucket = 'main-donotdelete-pr-zrukxx0pomjjg2'\n",
    "object_key = '38BeFeatureLemonC_621050532.jpg'\n",
    "\n",
    "streaming_body_5 = cos_client.get_object(Bucket=bucket, Key=object_key)['Body']\n",
    "\n",
    "# Your data file was loaded into a botocore.response.StreamingBody object.\n",
    "# Please read the documentation of ibm_boto3 and pandas to learn more about the possibilities to load the data.\n",
    "# ibm_boto3 documentation: https://ibm.github.io/ibm-cos-sdk-python/\n",
    "# pandas documentation: http://pandas.pydata.org/\n"
   ]
  },
  {
   "cell_type": "markdown",
   "metadata": {
    "id": "1D50K6nTYpU1"
   },
   "source": [
    "## **Loading Model**"
   ]
  },
  {
   "cell_type": "code",
   "execution_count": 59,
   "metadata": {
    "id": "gciXk2hJLLIc"
   },
   "outputs": [],
   "source": [
    "from keras.models import load_model\n",
    "from tensorflow.keras.preprocessing import image\n",
    "from tensorflow.keras.preprocessing.image import load_img\n",
    "model = load_model(r\"/home/wsuser/work/nutrition.h5\")\n",
    "import numpy as np\n",
    "from tensorflow.keras.utils import img_to_array"
   ]
  },
  {
   "cell_type": "code",
   "execution_count": 64,
   "metadata": {},
   "outputs": [],
   "source": [
    "\n",
    "import os, types\n",
    "import pandas as pd\n",
    "from botocore.client import Config\n",
    "import ibm_boto3\n",
    "\n",
    "def __iter__(self): return 0\n",
    "\n",
    "# @hidden_cell\n",
    "# The following code accesses a file in your IBM Cloud Object Storage. It includes your credentials.\n",
    "# You might want to remove those credentials before you share the notebook.\n",
    "cos_client = ibm_boto3.client(service_name='s3',\n",
    "    ibm_api_key_id='eeJ1bmJC6Fg-69GLhQ-BVukvrdm7iQ7eJBqOJ12g_U8D',\n",
    "    ibm_auth_endpoint=\"https://iam.cloud.ibm.com/oidc/token\",\n",
    "    config=Config(signature_version='oauth'),\n",
    "    endpoint_url='https://s3.private.us.cloud-object-storage.appdomain.cloud')\n",
    "\n",
    "bucket = 'main-donotdelete-pr-zrukxx0pomjjg2'\n",
    "object_key = 'lemon.jpg'\n",
    "\n",
    "streaming_body_6 = cos_client.get_object(Bucket=bucket, Key=object_key)['Body']\n",
    "\n",
    "# Your data file was loaded into a botocore.response.StreamingBody object.\n",
    "# Please read the documentation of ibm_boto3 and pandas to learn more about the possibilities to load the data.\n",
    "# ibm_boto3 documentation: https://ibm.github.io/ibm-cos-sdk-python/\n",
    "# pandas documentation: http://pandas.pydata.org/\n"
   ]
  },
  {
   "cell_type": "code",
   "execution_count": 65,
   "metadata": {
    "colab": {
     "base_uri": "https://localhost:8080/"
    },
    "id": "OxRTtqbVT9HJ",
    "outputId": "13400325-4163-4018-83a4-c9a89d8f0074"
   },
   "outputs": [
    {
     "ename": "TypeError",
     "evalue": "expected str, bytes or os.PathLike object, not StreamingBody",
     "output_type": "error",
     "traceback": [
      "\u001b[0;31m---------------------------------------------------------------------------\u001b[0m",
      "\u001b[0;31mTypeError\u001b[0m                                 Traceback (most recent call last)",
      "\u001b[0;32m/tmp/wsuser/ipykernel_164/3917342313.py\u001b[0m in \u001b[0;36m<module>\u001b[0;34m\u001b[0m\n\u001b[1;32m      1\u001b[0m \u001b[0;32mimport\u001b[0m \u001b[0mpandas\u001b[0m \u001b[0;32mas\u001b[0m \u001b[0mpd\u001b[0m\u001b[0;34m\u001b[0m\u001b[0;34m\u001b[0m\u001b[0m\n\u001b[0;32m----> 2\u001b[0;31m \u001b[0mimg\u001b[0m \u001b[0;34m=\u001b[0m \u001b[0mload_img\u001b[0m\u001b[0;34m(\u001b[0m\u001b[0mstreaming_body_6\u001b[0m\u001b[0;34m,\u001b[0m \u001b[0mgrayscale\u001b[0m \u001b[0;34m=\u001b[0m \u001b[0;32mFalse\u001b[0m\u001b[0;34m,\u001b[0m \u001b[0mtarget_size\u001b[0m \u001b[0;34m=\u001b[0m \u001b[0;34m(\u001b[0m\u001b[0;36m32\u001b[0m\u001b[0;34m,\u001b[0m\u001b[0;36m32\u001b[0m\u001b[0;34m)\u001b[0m\u001b[0;34m)\u001b[0m\u001b[0;34m\u001b[0m\u001b[0;34m\u001b[0m\u001b[0m\n\u001b[0m\u001b[1;32m      3\u001b[0m \u001b[0mx\u001b[0m \u001b[0;34m=\u001b[0m \u001b[0mimg_to_array\u001b[0m\u001b[0;34m(\u001b[0m\u001b[0mimg\u001b[0m\u001b[0;34m)\u001b[0m\u001b[0;34m\u001b[0m\u001b[0;34m\u001b[0m\u001b[0m\n\u001b[1;32m      4\u001b[0m \u001b[0mx\u001b[0m \u001b[0;34m=\u001b[0m \u001b[0mnp\u001b[0m\u001b[0;34m.\u001b[0m\u001b[0mexpand_dims\u001b[0m \u001b[0;34m(\u001b[0m\u001b[0mx\u001b[0m\u001b[0;34m,\u001b[0m\u001b[0maxis\u001b[0m \u001b[0;34m=\u001b[0m \u001b[0;36m0\u001b[0m\u001b[0;34m)\u001b[0m\u001b[0;34m\u001b[0m\u001b[0;34m\u001b[0m\u001b[0m\n\u001b[1;32m      5\u001b[0m \u001b[0mpredictions\u001b[0m \u001b[0;34m=\u001b[0m \u001b[0;34m(\u001b[0m\u001b[0mmodel\u001b[0m\u001b[0;34m.\u001b[0m\u001b[0mpredict\u001b[0m\u001b[0;34m(\u001b[0m\u001b[0mx\u001b[0m\u001b[0;34m)\u001b[0m \u001b[0;34m>\u001b[0m \u001b[0;36m0.5\u001b[0m\u001b[0;34m)\u001b[0m\u001b[0;34m.\u001b[0m\u001b[0mastype\u001b[0m\u001b[0;34m(\u001b[0m\u001b[0;34m\"int32\"\u001b[0m\u001b[0;34m)\u001b[0m\u001b[0;34m\u001b[0m\u001b[0;34m\u001b[0m\u001b[0m\n",
      "\u001b[0;32m/opt/conda/envs/Python-3.9/lib/python3.9/site-packages/keras/preprocessing/image.py\u001b[0m in \u001b[0;36mload_img\u001b[0;34m(path, grayscale, color_mode, target_size, interpolation)\u001b[0m\n\u001b[1;32m    311\u001b[0m       \u001b[0mValueError\u001b[0m\u001b[0;34m:\u001b[0m \u001b[0;32mif\u001b[0m \u001b[0minterpolation\u001b[0m \u001b[0mmethod\u001b[0m \u001b[0;32mis\u001b[0m \u001b[0;32mnot\u001b[0m \u001b[0msupported\u001b[0m\u001b[0;34m.\u001b[0m\u001b[0;34m\u001b[0m\u001b[0;34m\u001b[0m\u001b[0m\n\u001b[1;32m    312\u001b[0m   \"\"\"\n\u001b[0;32m--> 313\u001b[0;31m   return image.load_img(path, grayscale=grayscale, color_mode=color_mode,\n\u001b[0m\u001b[1;32m    314\u001b[0m                         target_size=target_size, interpolation=interpolation)\n\u001b[1;32m    315\u001b[0m \u001b[0;34m\u001b[0m\u001b[0m\n",
      "\u001b[0;32m/opt/conda/envs/Python-3.9/lib/python3.9/site-packages/keras_preprocessing/image/utils.py\u001b[0m in \u001b[0;36mload_img\u001b[0;34m(path, grayscale, color_mode, target_size, interpolation)\u001b[0m\n\u001b[1;32m    111\u001b[0m         raise ImportError('Could not import PIL.Image. '\n\u001b[1;32m    112\u001b[0m                           'The use of `load_img` requires PIL.')\n\u001b[0;32m--> 113\u001b[0;31m     \u001b[0;32mwith\u001b[0m \u001b[0mopen\u001b[0m\u001b[0;34m(\u001b[0m\u001b[0mpath\u001b[0m\u001b[0;34m,\u001b[0m \u001b[0;34m'rb'\u001b[0m\u001b[0;34m)\u001b[0m \u001b[0;32mas\u001b[0m \u001b[0mf\u001b[0m\u001b[0;34m:\u001b[0m\u001b[0;34m\u001b[0m\u001b[0;34m\u001b[0m\u001b[0m\n\u001b[0m\u001b[1;32m    114\u001b[0m         \u001b[0mimg\u001b[0m \u001b[0;34m=\u001b[0m \u001b[0mpil_image\u001b[0m\u001b[0;34m.\u001b[0m\u001b[0mopen\u001b[0m\u001b[0;34m(\u001b[0m\u001b[0mio\u001b[0m\u001b[0;34m.\u001b[0m\u001b[0mBytesIO\u001b[0m\u001b[0;34m(\u001b[0m\u001b[0mf\u001b[0m\u001b[0;34m.\u001b[0m\u001b[0mread\u001b[0m\u001b[0;34m(\u001b[0m\u001b[0;34m)\u001b[0m\u001b[0;34m)\u001b[0m\u001b[0;34m)\u001b[0m\u001b[0;34m\u001b[0m\u001b[0;34m\u001b[0m\u001b[0m\n\u001b[1;32m    115\u001b[0m         \u001b[0;32mif\u001b[0m \u001b[0mcolor_mode\u001b[0m \u001b[0;34m==\u001b[0m \u001b[0;34m'grayscale'\u001b[0m\u001b[0;34m:\u001b[0m\u001b[0;34m\u001b[0m\u001b[0;34m\u001b[0m\u001b[0m\n",
      "\u001b[0;31mTypeError\u001b[0m: expected str, bytes or os.PathLike object, not StreamingBody"
     ]
    }
   ],
   "source": [
    "import pandas as pd\n",
    "img = load_img(streaming_body_6, grayscale = False, target_size = (32,32))\n",
    "x = img_to_array(img)\n",
    "x = np.expand_dims (x,axis = 0)\n",
    "predictions = (model.predict(x) > 0.5).astype(\"int32\")\n",
    "print(predictions)"
   ]
  },
  {
   "cell_type": "markdown",
   "metadata": {
    "id": "snwomowAYhzg"
   },
   "source": [
    "## **Model Prediction**"
   ]
  },
  {
   "cell_type": "markdown",
   "metadata": {
    "id": "Vwpvp9vdYM8B"
   },
   "source": [
    "![canta.jpg](data:image/jpeg;base64,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)\n",
    "\n",
    "Predicting this fruit (which is Cantaloupe) using CNN model file (nutrition.h5)"
   ]
  },
  {
   "cell_type": "code",
   "execution_count": 32,
   "metadata": {
    "id": "eRYcuRHzM9Ur"
   },
   "outputs": [],
   "source": [
    "index = predictions[0].nonzero()[0][0]\n"
   ]
  },
  {
   "cell_type": "code",
   "execution_count": 47,
   "metadata": {
    "colab": {
     "base_uri": "https://localhost:8080/"
    },
    "id": "YRGbNd8uRBpG",
    "outputId": "3508bbfa-0749-488d-8105-f30a6b422c75"
   },
   "outputs": [
    {
     "name": "stdout",
     "output_type": "stream",
     "text": [
      "Cantaloupe\n"
     ]
    }
   ],
   "source": [
    "from scripts.File_Extractor import index_to_information\n",
    "predicted_class_info = index_to_information(index,[r\"/content/csv/index_list.csv\",r\"/content/csv/nutrients_list.csv\",r\"/content/csv/price_list.csv\"] )"
   ]
  },
  {
   "cell_type": "code",
   "execution_count": 48,
   "metadata": {
    "colab": {
     "base_uri": "https://localhost:8080/"
    },
    "id": "48GK04q0UTlo",
    "outputId": "cc56367e-962d-4c2a-b767-80540eae0e62"
   },
   "outputs": [
    {
     "data": {
      "text/plain": [
       "{'NAME': 'Cantaloupe',\n",
       " 'SERVING': '100g',\n",
       " 'CALORIES': '34',\n",
       " 'FIBER': '0.9g',\n",
       " 'FAT': '0.2g',\n",
       " 'PROTEIN': '0.8g',\n",
       " 'WATER': '89%',\n",
       " 'SUGAR ': '8g',\n",
       " 'CARBOHYDRATES': '8g',\n",
       " 'FOOD TYPE': 'fruit',\n",
       " 'WHOLESALE PRICE': '28',\n",
       " 'RETAIL PRICE': '[32, 36]',\n",
       " 'SHOPPING MALL PRICE': '[34, 46]',\n",
       " 'QUANTITY': '1kg',\n",
       " 'TYPE': 'fruits'}"
      ]
     },
     "execution_count": 48,
     "metadata": {},
     "output_type": "execute_result"
    }
   ],
   "source": [
    "predicted_class_info"
   ]
  },
  {
   "cell_type": "code",
   "execution_count": null,
   "metadata": {
    "id": "qh5Vf1SnX_2E"
   },
   "outputs": [],
   "source": []
  }
 ],
 "metadata": {
  "colab": {
   "provenance": []
  },
  "kernelspec": {
   "display_name": "Python 3 (ipykernel)",
   "language": "python",
   "name": "python3"
  },
  "language_info": {
   "codemirror_mode": {
    "name": "ipython",
    "version": 3
   },
   "file_extension": ".py",
   "mimetype": "text/x-python",
   "name": "python",
   "nbconvert_exporter": "python",
   "pygments_lexer": "ipython3",
   "version": "3.9.7"
  }
 },
 "nbformat": 4,
 "nbformat_minor": 1
}
